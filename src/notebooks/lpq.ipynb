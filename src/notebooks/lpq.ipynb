{
 "cells": [
  {
   "cell_type": "code",
   "execution_count": 1,
   "metadata": {},
   "outputs": [],
   "source": [
    "from __future__ import division\n",
    "import cv2\n",
    "import os\n",
    "import numpy as np\n",
    "from sklearn.model_selection import train_test_split\n",
    "from sklearn.neural_network import MLPClassifier\n",
    "from scipy.signal import convolve2d\n",
    "import matplotlib.pyplot as plt\n",
    "from preprocessing import *\n"
   ]
  },
  {
   "cell_type": "code",
   "execution_count": 2,
   "metadata": {},
   "outputs": [],
   "source": [
    "def lpq(img,winSize=3,freqestim=1,mode='nh'):\n",
    "    rho=0.90\n",
    "\n",
    "    STFTalpha=1/winSize  # alpha in STFT approaches (for Gaussian derivative alpha=1)\n",
    "    sigmaS=(winSize-1)/4 # Sigma for STFT Gaussian window (applied if freqestim==2)\n",
    "    sigmaA=8/(winSize-1) # Sigma for Gaussian derivative quadrature filters (applied if freqestim==3)\n",
    "\n",
    "    convmode='valid' # Compute descriptor responses only on part that have full neigborhood. Use 'same' if all pixels are included (extrapolates np.image with zeros).\n",
    "\n",
    "    img=np.float64(img) # Convert np.image to double\n",
    "    r=(winSize-1)/2 # Get radius from window size\n",
    "    x=np.arange(-r,r+1)[np.newaxis] # Form spatial coordinates in window\n",
    "\n",
    "    if freqestim==1:  #  STFT uniform window\n",
    "        #  Basic STFT filters\n",
    "        w0=np.ones_like(x)\n",
    "        w1=np.exp(-2*np.pi*x*STFTalpha*1j)\n",
    "        w2=np.conj(w1)\n",
    "\n",
    "    ## Run filters to compute the frequency response in the four points. Store np.real and np.imaginary parts separately\n",
    "    # Run first filter\n",
    "    filterResp1=convolve2d(convolve2d(img,w0.T,convmode),w1,convmode)\n",
    "    filterResp2=convolve2d(convolve2d(img,w1.T,convmode),w0,convmode)\n",
    "    filterResp3=convolve2d(convolve2d(img,w1.T,convmode),w1,convmode)\n",
    "    filterResp4=convolve2d(convolve2d(img,w1.T,convmode),w2,convmode)\n",
    "\n",
    "    # Initilize frequency domain matrix for four frequency coordinates (np.real and np.imaginary parts for each frequency).\n",
    "    freqResp=np.dstack([filterResp1.real, filterResp1.imag,\n",
    "                        filterResp2.real, filterResp2.imag,\n",
    "                        filterResp3.real, filterResp3.imag,\n",
    "                        filterResp4.real, filterResp4.imag])\n",
    "\n",
    "    ## Perform quantization and compute LPQ codewords\n",
    "    inds = np.arange(freqResp.shape[2])[np.newaxis,np.newaxis,:]\n",
    "    LPQdesc=((freqResp>0)*(2**inds)).sum(2)\n",
    "\n",
    "    ## Switch format to uint8 if LPQ code np.image is required as output\n",
    "    if mode=='im':\n",
    "        LPQdesc=np.uint8(LPQdesc)\n",
    "\n",
    "    ## Histogram if needed\n",
    "    if mode=='nh' or mode=='h':\n",
    "        LPQdesc=np.histogram(LPQdesc.flatten(),range(256))[0]\n",
    "\n",
    "    ## Normalize histogram if needed\n",
    "    if mode=='nh':\n",
    "        LPQdesc=LPQdesc/LPQdesc.sum()\n",
    "\n",
    "    return LPQdesc"
   ]
  },
  {
   "cell_type": "code",
   "execution_count": 3,
   "metadata": {},
   "outputs": [],
   "source": [
    "def Train_NN(X,Y):\n",
    "    print(\"Start Training \")\n",
    "    N = len(X[0])\n",
    "    X = np.array(X)\n",
    "    Y = np.array(Y)\n",
    "    x_train, x_test, y_train, y_test = train_test_split(X, Y, test_size=0.25, random_state=4, stratify=Y)\n",
    "    clf = MLPClassifier(alpha=1e-05, hidden_layer_sizes=(500,250),random_state=1,solver='lbfgs',max_iter=10000)\n",
    "    clf = clf.fit(x_train, y_train)\n",
    "    print(\"Finished Fitting\")\n",
    "    y_pred_test = clf.predict(x_test)\n",
    "    accuracy_test = np.mean(y_test==y_pred_test) * 100\n",
    "    \n",
    "    y_pred_train = clf.predict(x_train)\n",
    "    accuracy_train = np.mean(y_train==y_pred_train) * 100\n",
    "    return (accuracy_train,accuracy_test),clf"
   ]
  },
  {
   "cell_type": "code",
   "execution_count": 4,
   "metadata": {},
   "outputs": [
    {
     "name": "stdout",
     "output_type": "stream",
     "text": [
      "curFont 1\n",
      "curFont 2\n",
      "curFont 3\n",
      "curFont 4\n",
      "curFont 5\n",
      "curFont 6\n",
      "curFont 7\n",
      "curFont 8\n",
      "curFont 9\n"
     ]
    }
   ],
   "source": [
    "base_dir='ACdata_base/'\n",
    "\n",
    "fonts = os.listdir(base_dir)\n",
    "X,Y=[],[]\n",
    "for font in fonts:\n",
    "    h,w = 0,0\n",
    "    data = os.listdir(base_dir+font)\n",
    "    print(\"curFont\",font)\n",
    "    for img in data:\n",
    "        img_dir = base_dir+font+'/'+img\n",
    "        imgGray = cv2.imread(img_dir, cv2.IMREAD_GRAYSCALE)\n",
    "        bin = Binarize_Histogram(imgGray)\n",
    "        lp = lpq(bin,winSize=3,freqestim=1,mode='nh')\n",
    "        X.append(lp)\n",
    "        Y.append(int(font))"
   ]
  },
  {
   "cell_type": "code",
   "execution_count": 5,
   "metadata": {},
   "outputs": [
    {
     "name": "stdout",
     "output_type": "stream",
     "text": [
      "Start Training \n",
      "Finished Fitting\n"
     ]
    }
   ],
   "source": [
    "accuracy,clf = Train_NN(X,Y)"
   ]
  },
  {
   "cell_type": "code",
   "execution_count": 6,
   "metadata": {},
   "outputs": [
    {
     "name": "stdout",
     "output_type": "stream",
     "text": [
      "Accuracy Train:  (98.89152810768013, 94.54976303317537)\n"
     ]
    }
   ],
   "source": [
    "print(\"Accuracy Train: \",accuracy)"
   ]
  },
  {
   "cell_type": "code",
   "execution_count": 7,
   "metadata": {},
   "outputs": [
    {
     "name": "stdout",
     "output_type": "stream",
     "text": [
      "(array([  3,  13,  25,  49,  54,  69,  83, 131, 140, 170, 211, 221, 258,\n",
      "       269, 279, 288, 300, 338, 370, 376, 381, 389, 403], dtype=int64),)\n",
      "[6.12568804e-09 9.99998044e-01 7.64048335e-10 6.24256007e-11\n",
      " 1.74037084e-07 2.14392420e-11 5.01189767e-20 1.77522819e-06\n",
      " 3.39443073e-26] 2 2\n",
      "[1, 2, 3, 4, 5, 6, 7, 8, 9]\n"
     ]
    },
    {
     "data": {
      "image/png": "[encoded data removed]",
      "text/plain": [
       "<Figure size 432x288 with 1 Axes>"
      ]
     },
     "metadata": {
      "needs_background": "light"
     },
     "output_type": "display_data"
    },
    {
     "name": "stdout",
     "output_type": "stream",
     "text": [
      "accuracy:  94.54976303317537\n"
     ]
    }
   ],
   "source": [
    "x_train, x_test, y_train, y_test = train_test_split(X, Y, test_size=0.25, random_state=4, stratify=Y)\n",
    "test_idx=1\n",
    "plt.show()\n",
    "y_pred = clf.predict(x_test)\n",
    "y_pred_prop = clf.predict_proba(x_test)\n",
    "accuracy = np.mean(y_test==y_pred)\n",
    "print(np.where(y_test!=y_pred))\n",
    "print(y_pred_prop[test_idx],y_pred[test_idx],y_test[test_idx])\n",
    "y_axis = list(range(1,10))\n",
    "plt.bar(y_axis, y_pred_prop[test_idx], color ='green')\n",
    "print(y_axis)\n",
    "plt.show()\n",
    "print(\"accuracy: \",accuracy*100)"
   ]
  }
 ],
 "metadata": {
  "interpreter": {
   "hash": "31f2aee4e71d21fbe5cf8b01ff0e069b9275f58929596ceb00d14d90e3e16cd6"
  },
  "kernelspec": {
   "display_name": "Python 3.6.9 64-bit",
   "language": "python",
   "name": "python3"
  },
  "language_info": {
   "codemirror_mode": {
    "name": "ipython",
    "version": 3
   },
   "file_extension": ".py",
   "mimetype": "text/x-python",
   "name": "python",
   "nbconvert_exporter": "python",
   "pygments_lexer": "ipython3",
   "version": "3.8.3"
  },
  "orig_nbformat": 4
 },
 "nbformat": 4,
 "nbformat_minor": 2
}
