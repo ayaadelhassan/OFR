{
 "cells": [
  {
   "cell_type": "code",
   "execution_count": 1,
   "metadata": {},
   "outputs": [],
   "source": [
    "import cv2\n",
    "import numpy as np\n",
    "from scipy.signal import convolve2d\n",
    "from matplotlib import pyplot\n",
    "from sklearn.model_selection import train_test_split\n",
    "from sklearn.neural_network import MLPClassifier\n",
    "from skimage.transform import resize\n",
    "import os"
   ]
  },
  {
   "cell_type": "code",
   "execution_count": 2,
   "metadata": {},
   "outputs": [],
   "source": [
    "def lpq(img_filepath, winSize=3,freqestim=1,mode='im'):\n",
    "\n",
    "    img = cv2.imread(img_filepath,cv2.IMREAD_GRAYSCALE)\n",
    "    img =  (resize(img, (110, 200))*255).astype(np.uint8)\n",
    "    rho=0.90\n",
    "\n",
    "    STFTalpha=1/winSize  # alpha in STFT approaches (for Gaussian derivative alpha=1)\n",
    "    sigmaS=(winSize-1)/4 # Sigma for STFT Gaussian window (applied if freqestim==2)\n",
    "    sigmaA=8/(winSize-1) # Sigma for Gaussian derivative quadrature filters (applied if freqestim==3)\n",
    "\n",
    "    convmode='valid' # Compute descriptor responses only on part that have full neigborhood. Use 'same' if all pixels are included (extrapolates np.image with zeros).\n",
    "\n",
    "    img=np.float64(img) # Convert np.image to double\n",
    "    r=(winSize-1)/2 # Get radius from window size\n",
    "    x=np.arange(-r,r+1)[np.newaxis] # Form spatial coordinates in window\n",
    "\n",
    "    if freqestim==1:  #  STFT uniform window\n",
    "        #  Basic STFT filters\n",
    "        w0=np.ones_like(x)\n",
    "        w1=np.exp(-2*np.pi*x*STFTalpha*1j)\n",
    "        w2=np.conj(w1)\n",
    "\n",
    "    ## Run filters to compute the frequency response in the four points. Store np.real and np.imaginary parts separately\n",
    "    # Run first filters\n",
    "    filterResp1=convolve2d(convolve2d(img,w0.T,convmode),w1,convmode)\n",
    "    filterResp2=convolve2d(convolve2d(img,w1.T,convmode),w0,convmode)\n",
    "    filterResp3=convolve2d(convolve2d(img,w1.T,convmode),w1,convmode)\n",
    "    filterResp4=convolve2d(convolve2d(img,w1.T,convmode),w2,convmode)\n",
    "\n",
    "    # Initilize frequency domain matrix for four frequency coordinates (np.real and np.imaginary parts for each frequency).\n",
    "    freqResp=np.dstack([filterResp1.real, filterResp1.imag,\n",
    "                        filterResp2.real, filterResp2.imag,\n",
    "                        filterResp3.real, filterResp3.imag,\n",
    "                        filterResp4.real, filterResp4.imag])\n",
    "\n",
    "    ## Perform quantization and compute LPQ codewords\n",
    "    inds = np.arange(freqResp.shape[2])[np.newaxis,np.newaxis,:]\n",
    "    LPQdesc=((freqResp>0)*(2**inds)).sum(2)\n",
    "\n",
    "#     ## Switch format to uint8 if LPQ code np.image is required as output\n",
    "#     if mode=='im':\n",
    "#         LPQdesc=np.uint8(LPQdesc)\n",
    "\n",
    "\n",
    "#         pyplot.figure(figsize=(20,10))\n",
    "#         pyplot.subplot(121)\n",
    "#         pyplot.imshow(img, cmap='gray')\n",
    "#         pyplot.title(\"Original image\")\n",
    "\n",
    "#         pyplot.subplot(122)\n",
    "#         pyplot.imshow(LPQdesc, cmap='gray')\n",
    "#         pyplot.title(\"lpq\")\n",
    "#         pyplot.show()\n",
    "\n",
    "\n",
    "    ## Histogram if needed\n",
    "    if mode=='nh' or mode=='h':\n",
    "        LPQdesc=np.histogram(LPQdesc.flatten(),range(256))[0]\n",
    "\n",
    "    ## Normalize histogram if needed\n",
    "    if mode=='nh':\n",
    "        LPQdesc=LPQdesc/LPQdesc.sum()\n",
    "\n",
    "    return LPQdesc"
   ]
  },
  {
   "cell_type": "code",
   "execution_count": 11,
   "metadata": {},
   "outputs": [],
   "source": [
    "def Train_NN(X,Y):\n",
    "    print(\"Start Training \")\n",
    "    N = len(X[0])\n",
    "    X = np.array(X)\n",
    "    Y = np.array(Y)\n",
    "    x_train, x_test, y_train, y_test = train_test_split(X, Y, test_size=0.25, random_state=4, stratify=Y)\n",
    "    clf = MLPClassifier(alpha=1e-05, hidden_layer_sizes=(512,128),random_state=1,solver='lbfgs',max_iter=10000)\n",
    "    clf = clf.fit(x_train, y_train)\n",
    "    print(\"Finished Fitting\")\n",
    "    y_pred_test = clf.predict(x_test)\n",
    "    accuracy_test = np.mean(y_test==y_pred_test) * 100\n",
    "    \n",
    "    y_pred_train = clf.predict(x_train)\n",
    "    accuracy_train = np.mean(y_train==y_pred_train) * 100\n",
    "    return accuracy_train,accuracy_test,clf"
   ]
  },
  {
   "cell_type": "code",
   "execution_count": 12,
   "metadata": {},
   "outputs": [
    {
     "name": "stdout",
     "output_type": "stream",
     "text": [
      "curFont 8\n",
      "curFont 5\n",
      "curFont 6\n",
      "curFont 7\n",
      "curFont 9\n",
      "curFont 3\n",
      "curFont 2\n",
      "curFont 1\n",
      "curFont 4\n"
     ]
    }
   ],
   "source": [
    "base_dir='ACdata_base/'\n",
    "\n",
    "fonts = os.listdir(base_dir)\n",
    "X,Y=[],[]\n",
    "for font in fonts:\n",
    "    h,w = 0,0\n",
    "    data = os.listdir(base_dir+font)\n",
    "    print(\"curFont\",font)\n",
    "    for img in data:\n",
    "        img_dir = base_dir+font+'/'+img\n",
    "\n",
    "        features = lpq(img_dir)\n",
    "        features = features.flatten()\n",
    "        X.append(features)\n",
    "        Y.append(int(font))"
   ]
  },
  {
   "cell_type": "code",
   "execution_count": 13,
   "metadata": {},
   "outputs": [
    {
     "name": "stdout",
     "output_type": "stream",
     "text": [
      "Start Training \n",
      "Finished Fitting\n",
      "100.0 42.18009478672986\n"
     ]
    }
   ],
   "source": [
    "accuracyTrain,accuracyTest,ModelNN = Train_NN(X,Y)\n",
    "print(accuracyTrain,accuracyTest)"
   ]
  },
  {
   "cell_type": "code",
   "execution_count": null,
   "metadata": {},
   "outputs": [],
   "source": []
  }
 ],
 "metadata": {
  "kernelspec": {
   "display_name": "Python 3",
   "language": "python",
   "name": "python3"
  },
  "language_info": {
   "codemirror_mode": {
    "name": "ipython",
    "version": 3
   },
   "file_extension": ".py",
   "mimetype": "text/x-python",
   "name": "python",
   "nbconvert_exporter": "python",
   "pygments_lexer": "ipython3",
   "version": "3.7.11"
  }
 },
 "nbformat": 4,
 "nbformat_minor": 2
}
