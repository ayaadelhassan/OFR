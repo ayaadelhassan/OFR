{
 "cells": [
  {
   "cell_type": "code",
   "execution_count": 1,
   "metadata": {},
   "outputs": [],
   "source": [
    "import cv2\n",
    "from skimage.io import imread\n",
    "from skimage.transform import resize\n",
    "from skimage.feature import hog\n",
    "from skimage import exposure\n",
    "import matplotlib.pyplot as plt\n",
    "import os\n",
    "import numpy as np"
   ]
  },
  {
   "cell_type": "code",
   "execution_count": 3,
   "metadata": {},
   "outputs": [],
   "source": [
    "def Train_NN(X,Y):\n",
    "    print(\"Start Training \")\n",
    "    N = len(X[0])\n",
    "    X = np.array(X)\n",
    "    Y = np.array(Y)\n",
    "    x_train, x_test, y_train, y_test = train_test_split(X, Y, test_size=0.25, random_state=4, stratify=Y)\n",
    "    clf = MLPClassifier(alpha=1e-05, hidden_layer_sizes=(2048,1024),random_state=1,solver='lbfgs',max_iter=10000)\n",
    "    clf = clf.fit(x_train, y_train)\n",
    "    print(\"Finished Fitting\")\n",
    "    y_pred_test = clf.predict(x_test)\n",
    "    accuracy_test = np.mean(y_test==y_pred_test) * 100\n",
    "    \n",
    "    y_pred_train = clf.predict(x_train)\n",
    "    accuracy_train = np.mean(y_train==y_pred_train) * 100\n",
    "    return accuracy_train,accuracy_test"
   ]
  },
  {
   "cell_type": "code",
   "execution_count": null,
   "metadata": {},
   "outputs": [
    {
     "name": "stdout",
     "output_type": "stream",
     "text": [
      "curFont 8\n",
      "curFont 5\n"
     ]
    }
   ],
   "source": [
    "\n",
    "base_dir='ACdata_base/'\n",
    "\n",
    "fonts = os.listdir(base_dir)\n",
    "X,Y=[],[]\n",
    "for font in fonts:\n",
    "    h,w = 0,0\n",
    "    data = os.listdir(base_dir+font)\n",
    "    print(\"curFont\",font)\n",
    "    for img in data:\n",
    "        img_dir = base_dir+font+'/'+img\n",
    "        imgGray = cv2.imread(img_dir, cv2.IMREAD_GRAYSCALE)\n",
    "        resized_img = resize(imgGray, (200, 400))\n",
    "        fd, hog_image = hog(resized_img, orientations=9, pixels_per_cell=(8, 8),cells_per_block=(2, 2), visualize=True)\n",
    "        X.append(fd)\n",
    "        Y.append(int(font))\n"
   ]
  },
  {
   "cell_type": "code",
   "execution_count": null,
   "metadata": {},
   "outputs": [],
   "source": [
    "accuracy = Train_NN(X,Y)"
   ]
  },
  {
   "cell_type": "code",
   "execution_count": null,
   "metadata": {},
   "outputs": [],
   "source": []
  }
 ],
 "metadata": {
  "kernelspec": {
   "display_name": "Python 3",
   "language": "python",
   "name": "python3"
  },
  "language_info": {
   "codemirror_mode": {
    "name": "ipython",
    "version": 3
   },
   "file_extension": ".py",
   "mimetype": "text/x-python",
   "name": "python",
   "nbconvert_exporter": "python",
   "pygments_lexer": "ipython3",
   "version": "3.7.11"
  }
 },
 "nbformat": 4,
 "nbformat_minor": 2
}
