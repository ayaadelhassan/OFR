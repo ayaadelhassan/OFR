{
 "cells": [
  {
   "cell_type": "code",
   "execution_count": 30,
   "metadata": {},
   "outputs": [],
   "source": [
    "import cv2\n",
    "from skimage.io import imread\n",
    "from skimage.transform import resize\n",
    "from skimage.feature import hog\n",
    "from skimage import exposure\n",
    "import matplotlib.pyplot as plt\n",
    "from sklearn.model_selection import train_test_split\n",
    "from sklearn.neural_network import MLPClassifier\n",
    "import os\n",
    "import numpy as np\n",
    "from preprocessing import *\n",
    "from skimage.morphology import skeletonize"
   ]
  },
  {
   "cell_type": "code",
   "execution_count": 31,
   "metadata": {},
   "outputs": [],
   "source": [
    "def dist(x, y, x1, y1):\n",
    "    return ((x - x1)**2)**(0.5) + ((y - y1)**2) ** (0.5)\n",
    "def LaplacianEdge(img_binary,name=\"\"):\n",
    "    kernel_size = 3\n",
    "    ddepth = cv2.CV_16S\n",
    "    img_edge = cv2.Laplacian(img_binary, ddepth, ksize=kernel_size)\n",
    "    img_edge = 255 - img_edge\n",
    "    #cv2.imwrite(f\"output/{name}_final_otsu.png\",img_edge)\n",
    "    return img_edge"
   ]
  },
  {
   "cell_type": "code",
   "execution_count": 32,
   "metadata": {},
   "outputs": [],
   "source": [
    "def Train_NN(X,Y):\n",
    "    print(\"Start Training \")\n",
    "    N = len(X[0])\n",
    "    X = np.array(X)\n",
    "    Y = np.array(Y)\n",
    "    x_train, x_test, y_train, y_test = train_test_split(X, Y, test_size=0.25, random_state=4, stratify=Y)\n",
    "    clf = MLPClassifier(alpha=1e-05, hidden_layer_sizes=(2048,1024),random_state=1,solver='lbfgs',max_iter=10000)\n",
    "    clf = clf.fit(x_train, y_train)\n",
    "    print(\"Finished Fitting\")\n",
    "    y_pred_test = clf.predict(x_test)\n",
    "    accuracy_test = np.mean(y_test==y_pred_test) * 100\n",
    "    \n",
    "    y_pred_train = clf.predict(x_train)\n",
    "    accuracy_train = np.mean(y_train==y_pred_train) * 100\n",
    "    return accuracy_train,accuracy_test,clf"
   ]
  },
  {
   "cell_type": "code",
   "execution_count": 4,
   "metadata": {},
   "outputs": [
    {
     "name": "stdout",
     "output_type": "stream",
     "text": [
      "curFont 8\n",
      "curFont 5\n",
      "curFont 6\n",
      "curFont 7\n",
      "curFont 9\n",
      "curFont 3\n",
      "curFont 2\n",
      "curFont 1\n",
      "curFont 4\n"
     ]
    }
   ],
   "source": [
    "\n",
    "base_dir='ACdata_base/'\n",
    "\n",
    "fonts = os.listdir(base_dir)\n",
    "X,Y=[],[]\n",
    "for font in fonts:\n",
    "    h,w = 0,0\n",
    "    data = os.listdir(base_dir+font)\n",
    "    print(\"curFont\",font)\n",
    "    for img in data:\n",
    "        img_dir = base_dir+font+'/'+img\n",
    "        imgGray = cv2.imread(img_dir, cv2.IMREAD_GRAYSCALE)\n",
    "        resized_img = resize(imgGray, (110, 200))\n",
    "        fd, hog_image = hog(resized_img, orientations=9, pixels_per_cell=(8, 8),cells_per_block=(2, 2), visualize=True)\n",
    "        X.append(fd)\n",
    "        Y.append(int(font))\n"
   ]
  },
  {
   "cell_type": "code",
   "execution_count": 10,
   "metadata": {},
   "outputs": [
    {
     "name": "stdout",
     "output_type": "stream",
     "text": [
      "Start Training \n",
      "Finished Fitting\n"
     ]
    }
   ],
   "source": [
    "accuracyTrain,accuracyTest,ModelNN = Train_NN(X,Y)\n",
    "print(accuracyTrain,accuracyTest)"
   ]
  },
  {
   "cell_type": "code",
   "execution_count": 38,
   "metadata": {},
   "outputs": [
    {
     "data": {
      "text/plain": [
       "True"
      ]
     },
     "execution_count": 38,
     "metadata": {},
     "output_type": "execute_result"
    }
   ],
   "source": [
    "imgGray = cv2.imread(\"0210.jpg\", cv2.IMREAD_GRAYSCALE)\n",
    "resized_img = (resize(imgGray, (110, 200))*255).astype(np.uint8)\n",
    "binarizedImg =  Binarize_Histogram(resized_img,img_dir)\n",
    "edgeImg = LaplacianEdge(binarizedImg,name=\"\")\n",
    "skeleton = 255 - skeletonize(1-binarizedImg/255)*255\n",
    "cv2.imwrite(\"edges.png\",edgeImg)\n",
    "cv2.imwrite(\"skeleton.png\",skeleton)\n",
    "fd_edges, hog_edges = hog(edgeImg, orientations=9, pixels_per_cell=(8, 8),cells_per_block=(2, 2), visualize=True)\n",
    "fd_sk, hog_sk = hog(skeleton, orientations=9, pixels_per_cell=(8, 8),cells_per_block=(2, 2), visualize=True)\n",
    "cv2.imwrite(\"hog_edges.png\",hog_edges)\n",
    "cv2.imwrite(\"hog_sk.png\",hog_sk)"
   ]
  },
  {
   "cell_type": "code",
   "execution_count": 28,
   "metadata": {},
   "outputs": [
    {
     "name": "stdout",
     "output_type": "stream",
     "text": [
      "(11880,)\n",
      "(11880,)\n"
     ]
    }
   ],
   "source": [
    "print(fd_edges.shape)\n",
    "print(fd_sk.shape)"
   ]
  },
  {
   "cell_type": "code",
   "execution_count": 39,
   "metadata": {},
   "outputs": [
    {
     "name": "stdout",
     "output_type": "stream",
     "text": [
      "curFont 8\n",
      "curFont 5\n",
      "curFont 6\n",
      "curFont 7\n",
      "curFont 9\n",
      "curFont 3\n",
      "curFont 2\n",
      "curFont 1\n",
      "curFont 4\n"
     ]
    }
   ],
   "source": [
    "###########################Edges only hog\n",
    "base_dir='ACdata_base/'\n",
    "fonts = os.listdir(base_dir)\n",
    "X,Y=[],[]\n",
    "for font in fonts:\n",
    "    h,w = 0,0\n",
    "    data = os.listdir(base_dir+font)\n",
    "    print(\"curFont\",font)\n",
    "    for img in data:\n",
    "        img_dir = base_dir+font+'/'+img\n",
    "        imgGray = cv2.imread(img_dir, cv2.IMREAD_GRAYSCALE)\n",
    "        resized_img = (resize(imgGray, (110, 200))*255).astype(np.uint8)\n",
    "        binarizedImg =  Binarize_Histogram(resized_img,img_dir)\n",
    "        edgeImg = LaplacianEdge(binarizedImg,name=\"\")\n",
    "        fd, hog_image = hog(edgeImg, orientations=9, pixels_per_cell=(8, 8),cells_per_block=(2, 2), visualize=True)\n",
    "        X.append(fd)\n",
    "        Y.append(int(font))\n"
   ]
  },
  {
   "cell_type": "code",
   "execution_count": 40,
   "metadata": {},
   "outputs": [
    {
     "name": "stdout",
     "output_type": "stream",
     "text": [
      "Start Training \n",
      "Finished Fitting\n",
      "100.0 86.7298578199052\n"
     ]
    }
   ],
   "source": [
    "accuracyTrain,accuracyTest,ModelNN = Train_NN(X,Y)\n",
    "print(accuracyTrain,accuracyTest)"
   ]
  },
  {
   "cell_type": "code",
   "execution_count": 42,
   "metadata": {},
   "outputs": [
    {
     "name": "stdout",
     "output_type": "stream",
     "text": [
      "curFont 8\n",
      "curFont 5\n",
      "curFont 6\n",
      "curFont 7\n",
      "curFont 9\n",
      "curFont 3\n",
      "curFont 2\n",
      "curFont 1\n",
      "curFont 4\n"
     ]
    }
   ],
   "source": [
    "###########################Skeleton hog\n",
    "base_dir='ACdata_base/'\n",
    "fonts = os.listdir(base_dir)\n",
    "X,Y=[],[]\n",
    "for font in fonts:\n",
    "    h,w = 0,0\n",
    "    data = os.listdir(base_dir+font)\n",
    "    print(\"curFont\",font)\n",
    "    for img in data:\n",
    "        img_dir = base_dir+font+'/'+img\n",
    "        imgGray = cv2.imread(img_dir, cv2.IMREAD_GRAYSCALE)\n",
    "        resized_img =  (resize(imgGray, (110, 200))*255).astype(np.uint8)\n",
    "        binarizedImg =  Binarize_Histogram(resized_img,img_dir)\n",
    "        skeleton = 255 - skeletonize(1-binarizedImg/255)*255\n",
    "        fd, hog_image = hog(skeleton, orientations=9, pixels_per_cell=(8, 8),cells_per_block=(2, 2), visualize=True)\n",
    "        X.append(fd)\n",
    "        Y.append(int(font))"
   ]
  },
  {
   "cell_type": "code",
   "execution_count": 43,
   "metadata": {},
   "outputs": [
    {
     "name": "stdout",
     "output_type": "stream",
     "text": [
      "Start Training \n",
      "Finished Fitting\n",
      "100.0 78.90995260663507\n"
     ]
    }
   ],
   "source": [
    "accuracyTrain,accuracyTest,ModelNN = Train_NN(X,Y)\n",
    "print(accuracyTrain,accuracyTest)"
   ]
  },
  {
   "cell_type": "code",
   "execution_count": null,
   "metadata": {},
   "outputs": [],
   "source": []
  },
  {
   "cell_type": "code",
   "execution_count": null,
   "metadata": {},
   "outputs": [],
   "source": []
  }
 ],
 "metadata": {
  "kernelspec": {
   "display_name": "Python 3",
   "language": "python",
   "name": "python3"
  },
  "language_info": {
   "codemirror_mode": {
    "name": "ipython",
    "version": 3
   },
   "file_extension": ".py",
   "mimetype": "text/x-python",
   "name": "python",
   "nbconvert_exporter": "python",
   "pygments_lexer": "ipython3",
   "version": "3.7.11"
  }
 },
 "nbformat": 4,
 "nbformat_minor": 2
}
