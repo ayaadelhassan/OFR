{
 "cells": [
  {
   "cell_type": "code",
   "execution_count": 2,
   "metadata": {},
   "outputs": [],
   "source": [
    "from PIL import Image, ImageDraw, ImageFont\n",
    "import glob\n"
   ]
  },
  {
   "cell_type": "code",
   "execution_count": 20,
   "metadata": {},
   "outputs": [
    {
     "name": "stdout",
     "output_type": "stream",
     "text": [
      "['barada-reqa.ttf']\n",
      "('Barada Reqa', 'Regular')\n"
     ]
    }
   ],
   "source": [
    "image = Image.new(\"RGB\", (200, 200), \"white\")\n",
    "draw = ImageDraw.Draw(image)\n",
    "y = 50\n",
    "ttf_files = glob.glob(\"*.ttf\")\n",
    "print(ttf_files)\n",
    "for ttf_file in ttf_files:\n",
    "    font = ImageFont.truetype(ttf_file, size=44)\n",
    "    print(font.getname())\n",
    "    draw.text((10, y), \"\", font=font)\n",
    "    y += 55\n",
    "image.save(\"output.jpg\")"
   ]
  },
  {
   "cell_type": "code",
   "execution_count": 1,
   "metadata": {},
   "outputs": [],
   "source": [
    "from arabic_reshaper import ArabicReshaper\n",
    "# install: pip install python-bidi\n",
    "from bidi.algorithm import get_display\n",
    "\n",
    "from random import randint\n",
    "import arrand.arrandom \n",
    "\n",
    "# install: pip install Pillow\n",
    "from PIL import ImageFont\n",
    "from PIL import Image\n",
    "from PIL import ImageDraw\n",
    "\n",
    "\n",
    "ttf_files = glob.glob(\"*.ttf\")\n",
    "for ttf_file in ttf_files:\n",
    "    # use a good font!\n",
    "    fontFile = \"hebah-font.ttf\"\n",
    "\n",
    "    # this was a 400x400 jpg file\n",
    "\n",
    "\n",
    "    imageFile = \"output.jpg\"\n",
    "\n",
    "    # load the font and image\n",
    "    font = ImageFont.truetype(fontFile, 60)\n",
    "    image = Image.new(\"RGB\", (600, 150), \"white\")\n",
    "\n",
    "    # first you must prepare your text (you dont need this step for english text)\n",
    "\n",
    "    text =  \"في ليلة القدر\"\n",
    "\n",
    "    configuration = {\n",
    "        'delete_harakat': False,\n",
    "        'support_ligatures': True,\n",
    "        # 'shift_harakat_position': True,\n",
    "    }\n",
    "    reshaper = ArabicReshaper(configuration=configuration)\n",
    "\n",
    "    reshaped_text = reshaper.reshape(text)    # correct its shape\n",
    "    bidi_text = get_display(reshaped_text)           # correct its direction\n",
    "    # start drawing on image\n",
    "    draw = ImageDraw.Draw(image)\n",
    "    value_y = randint(20, 50)\n",
    "    value_x = randint(10, 50)\n",
    "    draw.text((value_x, value_y), bidi_text, (0,0,0), font=font)\n",
    "    draw = ImageDraw.Draw(image)\n",
    "\n",
    "    # save it\n",
    "    image.save(\"output2.png\")"
   ]
  },
  {
   "cell_type": "code",
   "execution_count": null,
   "metadata": {},
   "outputs": [],
   "source": []
  },
  {
   "cell_type": "code",
   "execution_count": null,
   "metadata": {},
   "outputs": [],
   "source": []
  },
  {
   "cell_type": "code",
   "execution_count": null,
   "metadata": {},
   "outputs": [],
   "source": []
  },
  {
   "cell_type": "code",
   "execution_count": null,
   "metadata": {},
   "outputs": [],
   "source": []
  },
  {
   "cell_type": "code",
   "execution_count": null,
   "metadata": {},
   "outputs": [],
   "source": []
  },
  {
   "cell_type": "code",
   "execution_count": null,
   "metadata": {},
   "outputs": [],
   "source": []
  },
  {
   "cell_type": "code",
   "execution_count": null,
   "metadata": {},
   "outputs": [],
   "source": []
  }
 ],
 "metadata": {
  "interpreter": {
   "hash": "96eb50e1d44aed467dc8f759cb08c32fbfa9babcf79c554e2d0e5feb04653a10"
  },
  "kernelspec": {
   "display_name": "Python 3.8.3 64-bit ('base': conda)",
   "language": "python",
   "name": "python3"
  },
  "language_info": {
   "codemirror_mode": {
    "name": "ipython",
    "version": 3
   },
   "file_extension": ".py",
   "mimetype": "text/x-python",
   "name": "python",
   "nbconvert_exporter": "python",
   "pygments_lexer": "ipython3",
   "version": "3.8.3"
  },
  "orig_nbformat": 4
 },
 "nbformat": 4,
 "nbformat_minor": 2
}
