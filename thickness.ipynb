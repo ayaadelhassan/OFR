{
 "cells": [
  {
   "cell_type": "code",
   "execution_count": 1,
   "metadata": {},
   "outputs": [],
   "source": [
    "import cv2\n",
    "from skimage.io import imread\n",
    "from skimage.transform import resize\n",
    "import matplotlib.pyplot as plt\n",
    "from sklearn.model_selection import train_test_split\n",
    "from sklearn.neural_network import MLPClassifier\n",
    "import os\n",
    "import numpy as np\n",
    "from preprocessing import *\n",
    "from skimage.morphology import skeletonize"
   ]
  },
  {
   "cell_type": "code",
   "execution_count": 2,
   "metadata": {},
   "outputs": [],
   "source": [
    "def dist(x, y, x1, y1):\n",
    "    return ((x - x1)**2)**(0.5) + ((y - y1)**2) ** (0.5)\n",
    "\n",
    "def getThicknessHist(skeleton,binarizedImg):\n",
    "    blackPixelsSk = np.where(skeleton==0)\n",
    "    contours,_ = cv2.findContours(255-binarizedImg, cv2.RETR_EXTERNAL,  cv2.CHAIN_APPROX_NONE)\n",
    "    boundindBoxes = [cv2.boundingRect(contour) for contour in contours]\n",
    "    thick_arr = []\n",
    "    for i in range(len(blackPixelsSk[0])):\n",
    "        y,x = blackPixelsSk[0][i],blackPixelsSk[1][i]\n",
    "\n",
    "        for idx,(xB,yB,wB,hB) in enumerate(boundindBoxes):\n",
    "            if y>=yB and x>=xB and y<=(yB+hB) and x<=(xB+wB):\n",
    "                insideContour = contours[idx] \n",
    "                break\n",
    "\n",
    "        insideContour = insideContour.T\n",
    "\n",
    "        cols= insideContour[0][0]\n",
    "        rows= insideContour[1][0]\n",
    "        idxs = list(range(len(rows)))\n",
    "        abovePoints = []\n",
    "        belowPoints = []\n",
    "        rightPoints = []\n",
    "        leftPoints =  []\n",
    "        \n",
    "        for i,r,c in zip(idxs,rows,cols):\n",
    "            if r<y and c==x:\n",
    "                abovePoints.append(i)\n",
    "            elif  r>y and c==x:\n",
    "                belowPoints.append(i)\n",
    "            elif r==y and c>x:\n",
    "                rightPoints.append(i)\n",
    "            elif r==y and c<x:\n",
    "                leftPoints.append(i)\n",
    "                \n",
    "        if len(belowPoints):\n",
    "            minIdx = np.argmin([dist(x,y,cols[belowPoints[i]],rows[belowPoints[i]]) for i in range(len(belowPoints))])\n",
    "            nearBelow = rows[belowPoints[minIdx]],cols[belowPoints[minIdx]] \n",
    "        else: nearBelow = y,x\n",
    "\n",
    "        if len(abovePoints):\n",
    "            minIdx = np.argmin([dist(x,y,cols[abovePoints[i]],rows[abovePoints[i]]) for i in range(len(abovePoints))])\n",
    "            nearAbove = rows[abovePoints[minIdx]],cols[abovePoints[minIdx]] \n",
    "        else: nearAbove = y,x\n",
    "\n",
    "        if len(rightPoints): \n",
    "            minIdx = np.argmin([dist(x,y,cols[rightPoints[i]],rows[rightPoints[i]]) for i in range(len(rightPoints))])\n",
    "            nearRight = rows[rightPoints[minIdx]],cols[rightPoints[minIdx]] \n",
    "        else: nearRight = y,x\n",
    "\n",
    "        if len(leftPoints): \n",
    "            minIdx = np.argmin([dist(x,y,cols[leftPoints[i]],rows[leftPoints[i]]) for i in range(len(leftPoints))])\n",
    "            nearLeft = rows[leftPoints[minIdx]],cols[leftPoints[minIdx]] \n",
    "        else: nearLeft = y,x\n",
    "            \n",
    "        distVer = dist(nearBelow[1],nearBelow[0],nearAbove[1],nearAbove[0])\n",
    "        distHor = dist(nearRight[1],nearRight[0],nearLeft[1],nearLeft[0])\n",
    "        thickness = min(distVer,distHor)\n",
    "        thick_arr.append(thickness)\n",
    "    thick_hist,bins = np.histogram(thick_arr, 10)\n",
    "    return list(thick_hist),list(bins)\n",
    "    "
   ]
  },
  {
   "cell_type": "code",
   "execution_count": 3,
   "metadata": {},
   "outputs": [],
   "source": [
    "def Train_NN(X,Y):\n",
    "    print(\"Start Training \")\n",
    "    N = len(X[0])\n",
    "    X = np.array(X)\n",
    "    Y = np.array(Y)\n",
    "    x_train, x_test, y_train, y_test = train_test_split(X, Y, test_size=0.25, random_state=4, stratify=Y)\n",
    "    clf = MLPClassifier(alpha=1e-05, hidden_layer_sizes=(32,16),random_state=1,solver='lbfgs',max_iter=10000)\n",
    "    clf = clf.fit(x_train, y_train)\n",
    "    print(\"Finished Fitting\")\n",
    "    y_pred_test = clf.predict(x_test)\n",
    "    accuracy_test = np.mean(y_test==y_pred_test) * 100\n",
    "    \n",
    "    y_pred_train = clf.predict(x_train)\n",
    "    accuracy_train = np.mean(y_train==y_pred_train) * 100\n",
    "    return accuracy_train,accuracy_test,clf"
   ]
  },
  {
   "cell_type": "code",
   "execution_count": null,
   "metadata": {},
   "outputs": [
    {
     "name": "stdout",
     "output_type": "stream",
     "text": [
      "curFont 8\n"
     ]
    }
   ],
   "source": [
    "\n",
    "base_dir='ACdata_base/'\n",
    "\n",
    "fonts = os.listdir(base_dir)\n",
    "X,Y=[],[]\n",
    "for font in fonts:\n",
    "    h,w = 0,0\n",
    "    data = os.listdir(base_dir+font)\n",
    "    print(\"curFont\",font)\n",
    "    for img in data:\n",
    "        img_dir = base_dir+font+'/'+img\n",
    "        imgGray = cv2.imread(img_dir, cv2.IMREAD_GRAYSCALE)\n",
    "        binarizedImg =  Binarize_Histogram(imgGray,'')\n",
    "        skeleton = 255 - skeletonize(1-binarizedImg/255)*255\n",
    "        hist,bins = getThicknessHist(skeleton,binarizedImg)\n",
    "        features = hist + bins\n",
    "#         print(features)\n",
    "        X.append(features)\n",
    "        Y.append(int(font))\n"
   ]
  },
  {
   "cell_type": "code",
   "execution_count": null,
   "metadata": {},
   "outputs": [],
   "source": [
    "accuracyTrain,accuracyTest,ModelNN = Train_NN(X,Y)"
   ]
  },
  {
   "cell_type": "code",
   "execution_count": null,
   "metadata": {},
   "outputs": [],
   "source": [
    "imgGray = cv2.imread('1498.jpg', cv2.IMREAD_GRAYSCALE)\n",
    "binarizedImg =  Binarize_Histogram(imgGray,'')\n",
    "skeleton = 255 - skeletonize(1-binarizedImg/255)*255\n",
    "hist,bins = getThicknessHist(skeleton,binarizedImg)\n",
    "plt.hist(bins[:-1], bins, weights=hist)\n",
    "print(hist)\n",
    "print(bins)"
   ]
  }
 ],
 "metadata": {
  "kernelspec": {
   "display_name": "Python 3",
   "language": "python",
   "name": "python3"
  },
  "language_info": {
   "codemirror_mode": {
    "name": "ipython",
    "version": 3
   },
   "file_extension": ".py",
   "mimetype": "text/x-python",
   "name": "python",
   "nbconvert_exporter": "python",
   "pygments_lexer": "ipython3",
   "version": "3.7.11"
  }
 },
 "nbformat": 4,
 "nbformat_minor": 2
}
